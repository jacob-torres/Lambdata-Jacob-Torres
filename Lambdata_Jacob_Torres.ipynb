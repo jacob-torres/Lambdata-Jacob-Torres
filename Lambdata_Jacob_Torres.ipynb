{
 "cells": [
  {
   "cell_type": "code",
   "execution_count": 3,
   "metadata": {},
   "outputs": [],
   "source": [
    "\"\"\"\n",
    "    Helpful Functions Module\n",
    "    Provides basic data science functionality\n",
    "\"\"\"\n",
    "\n",
    "import numpy as np\n",
    "import pandas as pd\n",
    "from sklearn.model_selection import train_test_split\n",
    "\n",
    "def tt_split(df, frac):\n",
    "    \"\"\"\n",
    "        Returns the training and testing dataframes,\n",
    "        where frac = fraction of df set aside for testing\n",
    "    \"\"\"\n",
    "\n",
    "    df = df.copy()\n",
    "    train, test = train_test_split(df, train_size=frac)\n",
    "\n",
    "    return train, test\n",
    "\n",
    "\n",
    "def null_count(df):\n",
    "    \"\"\"\n",
    "        Returns the sum of nulls in a dataframe\n",
    "    \"\"\"\n",
    "\n",
    "    df = df.copy()\n",
    "    sum = 0\n",
    "\n",
    "    for col in df.columns:\n",
    "        sum += df[col].isnull().sum()\n",
    "\n",
    "    return sum\n",
    "\n"
   ]
  },
  {
   "cell_type": "code",
   "execution_count": null,
   "metadata": {},
   "outputs": [],
   "source": []
  }
 ],
 "metadata": {
  "kernelspec": {
   "display_name": "Python 3",
   "language": "python",
   "name": "python3"
  },
  "language_info": {
   "codemirror_mode": {
    "name": "ipython",
    "version": 3
   },
   "file_extension": ".py",
   "mimetype": "text/x-python",
   "name": "python",
   "nbconvert_exporter": "python",
   "pygments_lexer": "ipython3",
   "version": "3.8.5"
  }
 },
 "nbformat": 4,
 "nbformat_minor": 2
}
